{
 "cells": [
  {
   "cell_type": "markdown",
   "id": "5399aa0f-cf2c-45ef-9c8f-9d3eef75988f",
   "metadata": {},
   "source": [
    "# Manipulating NumPy Arrays"
   ]
  },
  {
   "cell_type": "code",
   "execution_count": 1,
   "id": "cab53cea-546a-4845-9b4d-d34b06a68a96",
   "metadata": {},
   "outputs": [],
   "source": [
    "import numpy as np"
   ]
  },
  {
   "cell_type": "markdown",
   "id": "9d27f090-3a3e-4a45-8e03-a3079a2b6ccd",
   "metadata": {},
   "source": [
    "## Looping Through Arrays"
   ]
  },
  {
   "cell_type": "code",
   "execution_count": 2,
   "id": "a0a7d14c-bfa2-429c-9585-1aac5734b544",
   "metadata": {},
   "outputs": [
    {
     "name": "stdout",
     "output_type": "stream",
     "text": [
      "[(11, 12, 13), (14, 15, 16)]\n"
     ]
    }
   ],
   "source": [
    "arrA = ([(11, 12, 13), (14, 15, 16)])\n",
    "print(arrA)"
   ]
  },
  {
   "cell_type": "code",
   "execution_count": 7,
   "id": "973168d5-a4cb-4d84-93bf-b1fbe1c7956e",
   "metadata": {},
   "outputs": [
    {
     "name": "stdout",
     "output_type": "stream",
     "text": [
      "(11, 12, 13, 11, 12, 13)\n",
      "(14, 15, 16, 14, 15, 16)\n"
     ]
    }
   ],
   "source": [
    "for x in arrA:\n",
    "    print(x * 2)"
   ]
  },
  {
   "cell_type": "code",
   "execution_count": 11,
   "id": "25041b56-8755-4ce1-aee9-44e1833c0bac",
   "metadata": {},
   "outputs": [
    {
     "name": "stdout",
     "output_type": "stream",
     "text": [
      "22\n",
      "24\n",
      "26\n",
      "28\n",
      "30\n",
      "32\n"
     ]
    }
   ],
   "source": [
    "for x in arrA:\n",
    "    for y in x:\n",
    "        print(y * 2)"
   ]
  },
  {
   "cell_type": "markdown",
   "id": "da869e76-6d32-451d-9148-2ad8b8712998",
   "metadata": {},
   "source": [
    "The difference between the two loops is when looping through the first dimension and multiplying by 2 the output is the tuple repeated twice, when looping through the second dimension and multiplying by 2 the output is the individual numbers multiplied by 2 in a single column."
   ]
  },
  {
   "cell_type": "code",
   "execution_count": 15,
   "id": "61c6883d-4d1f-446c-982d-f73471fbb3e2",
   "metadata": {},
   "outputs": [
    {
     "name": "stdout",
     "output_type": "stream",
     "text": [
      "(11, 12, 13, 11, 12, 13)\n",
      "(11, 12, 13, 11, 12, 13)\n",
      "(11, 12, 13, 11, 12, 13)\n",
      "(14, 15, 16, 14, 15, 16)\n",
      "(14, 15, 16, 14, 15, 16)\n",
      "(14, 15, 16, 14, 15, 16)\n"
     ]
    }
   ],
   "source": [
    "for x in arrA:\n",
    "    for y in x:\n",
    "        loop_result = x * 2\n",
    "        print(loop_result)"
   ]
  },
  {
   "cell_type": "code",
   "execution_count": null,
   "id": "1b9d6c73-6117-4e22-832c-8bc410f26dd8",
   "metadata": {},
   "outputs": [],
   "source": []
  }
 ],
 "metadata": {
  "kernelspec": {
   "display_name": "Python 3 (ipykernel)",
   "language": "python",
   "name": "python3"
  },
  "language_info": {
   "codemirror_mode": {
    "name": "ipython",
    "version": 3
   },
   "file_extension": ".py",
   "mimetype": "text/x-python",
   "name": "python",
   "nbconvert_exporter": "python",
   "pygments_lexer": "ipython3",
   "version": "3.13.0"
  }
 },
 "nbformat": 4,
 "nbformat_minor": 5
}
