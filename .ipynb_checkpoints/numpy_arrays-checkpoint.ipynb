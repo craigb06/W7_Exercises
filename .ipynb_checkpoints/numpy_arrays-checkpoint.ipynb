{
 "cells": [
  {
   "cell_type": "markdown",
   "id": "5399aa0f-cf2c-45ef-9c8f-9d3eef75988f",
   "metadata": {},
   "source": [
    "# Manipulating NumPy Arrays"
   ]
  },
  {
   "cell_type": "code",
   "execution_count": 1,
   "id": "cab53cea-546a-4845-9b4d-d34b06a68a96",
   "metadata": {},
   "outputs": [],
   "source": [
    "import numpy as np"
   ]
  },
  {
   "cell_type": "markdown",
   "id": "9d27f090-3a3e-4a45-8e03-a3079a2b6ccd",
   "metadata": {},
   "source": [
    "## Looping Through Arrays"
   ]
  },
  {
   "cell_type": "code",
   "execution_count": 2,
   "id": "a0a7d14c-bfa2-429c-9585-1aac5734b544",
   "metadata": {},
   "outputs": [
    {
     "name": "stdout",
     "output_type": "stream",
     "text": [
      "[(11, 12, 13), (14, 15, 16)]\n"
     ]
    }
   ],
   "source": [
    "arrA = ([(11, 12, 13), (14, 15, 16)])\n",
    "print(arrA)"
   ]
  },
  {
   "cell_type": "code",
   "execution_count": 3,
   "id": "973168d5-a4cb-4d84-93bf-b1fbe1c7956e",
   "metadata": {},
   "outputs": [
    {
     "name": "stdout",
     "output_type": "stream",
     "text": [
      "(11, 12, 13, 11, 12, 13)\n",
      "(14, 15, 16, 14, 15, 16)\n"
     ]
    }
   ],
   "source": [
    "for x in arrA:\n",
    "    print(x * 2)"
   ]
  },
  {
   "cell_type": "code",
   "execution_count": 8,
   "id": "25041b56-8755-4ce1-aee9-44e1833c0bac",
   "metadata": {},
   "outputs": [
    {
     "name": "stdout",
     "output_type": "stream",
     "text": [
      "22\n",
      "24\n",
      "26\n",
      "28\n",
      "30\n",
      "32\n"
     ]
    }
   ],
   "source": [
    "for x in arrA:\n",
    "    for y in x:\n",
    "        print(y * 2)"
   ]
  },
  {
   "cell_type": "markdown",
   "id": "da869e76-6d32-451d-9148-2ad8b8712998",
   "metadata": {},
   "source": [
    "The difference between the two loops is when looping through the first dimension and multiplying by 2 the output is the tuple repeated twice, when looping through the second dimension and multiplying by 2 the output is the individual numbers multiplied by 2 in a single column."
   ]
  },
  {
   "cell_type": "code",
   "execution_count": 9,
   "id": "61c6883d-4d1f-446c-982d-f73471fbb3e2",
   "metadata": {},
   "outputs": [
    {
     "name": "stdout",
     "output_type": "stream",
     "text": [
      "22\n",
      "24\n",
      "26\n",
      "28\n",
      "30\n",
      "32\n"
     ]
    }
   ],
   "source": [
    "for x in arrA:\n",
    "    for y in x:\n",
    "        loop_result = y * 2\n",
    "        print(loop_result)"
   ]
  },
  {
   "cell_type": "markdown",
   "id": "185aaa73-86fd-4da7-98ab-0fcfb06450ca",
   "metadata": {},
   "source": [
    " ## Joining and Stacking Arrays"
   ]
  },
  {
   "cell_type": "code",
   "execution_count": 24,
   "id": "dc985dfb-3c12-4785-b9cf-eb0c77642283",
   "metadata": {},
   "outputs": [
    {
     "name": "stdout",
     "output_type": "stream",
     "text": [
      "[[11 12 13]\n",
      " [14 15 16]\n",
      " [11 12 13]\n",
      " [14 15 16]]\n"
     ]
    }
   ],
   "source": [
    "joined_array_1 = np.concatenate((arrA, arrA))\n",
    "print(joined_array_1)"
   ]
  },
  {
   "cell_type": "code",
   "execution_count": 25,
   "id": "2707189d-9403-431a-a43b-87b83e2b333a",
   "metadata": {},
   "outputs": [
    {
     "name": "stdout",
     "output_type": "stream",
     "text": [
      "[[11 12 13 11 12 13]\n",
      " [14 15 16 14 15 16]]\n"
     ]
    }
   ],
   "source": [
    "joined_array_2 = np.concatenate((arrA, arrA), axis = 1)\n",
    "print(joined_array_2)"
   ]
  },
  {
   "cell_type": "code",
   "execution_count": 27,
   "id": "cdf212af-4a80-42c8-99d3-2925ff3db923",
   "metadata": {},
   "outputs": [
    {
     "name": "stdout",
     "output_type": "stream",
     "text": [
      "[[[11 12 13]\n",
      "  [14 15 16]\n",
      "  [11 12 13]\n",
      "  [14 15 16]]\n",
      "\n",
      " [[11 12 13]\n",
      "  [14 15 16]\n",
      "  [11 12 13]\n",
      "  [14 15 16]]]\n"
     ]
    }
   ],
   "source": [
    "stacked_array_1 = np.stack((joined_array_1, joined_array_1))\n",
    "print(stacked_array_1)"
   ]
  },
  {
   "cell_type": "code",
   "execution_count": 28,
   "id": "b481034c-24dc-485a-90bd-7d22bf989943",
   "metadata": {},
   "outputs": [
    {
     "ename": "ValueError",
     "evalue": "all input arrays must have the same shape",
     "output_type": "error",
     "traceback": [
      "\u001b[1;31m---------------------------------------------------------------------------\u001b[0m",
      "\u001b[1;31mValueError\u001b[0m                                Traceback (most recent call last)",
      "Cell \u001b[1;32mIn[28], line 1\u001b[0m\n\u001b[1;32m----> 1\u001b[0m stacked_array_2 \u001b[38;5;241m=\u001b[39m \u001b[43mnp\u001b[49m\u001b[38;5;241;43m.\u001b[39;49m\u001b[43mstack\u001b[49m\u001b[43m(\u001b[49m\u001b[43m(\u001b[49m\u001b[43mjoined_array_1\u001b[49m\u001b[43m,\u001b[49m\u001b[43m \u001b[49m\u001b[43mjoined_array_2\u001b[49m\u001b[43m)\u001b[49m\u001b[43m)\u001b[49m\n\u001b[0;32m      2\u001b[0m \u001b[38;5;28mprint\u001b[39m(stacked_array_2)\n",
      "File \u001b[1;32m~\\AppData\\Local\\Packages\\PythonSoftwareFoundation.Python.3.13_qbz5n2kfra8p0\\LocalCache\\local-packages\\Python313\\site-packages\\numpy\\_core\\shape_base.py:457\u001b[0m, in \u001b[0;36mstack\u001b[1;34m(arrays, axis, out, dtype, casting)\u001b[0m\n\u001b[0;32m    455\u001b[0m shapes \u001b[38;5;241m=\u001b[39m {arr\u001b[38;5;241m.\u001b[39mshape \u001b[38;5;28;01mfor\u001b[39;00m arr \u001b[38;5;129;01min\u001b[39;00m arrays}\n\u001b[0;32m    456\u001b[0m \u001b[38;5;28;01mif\u001b[39;00m \u001b[38;5;28mlen\u001b[39m(shapes) \u001b[38;5;241m!=\u001b[39m \u001b[38;5;241m1\u001b[39m:\n\u001b[1;32m--> 457\u001b[0m     \u001b[38;5;28;01mraise\u001b[39;00m \u001b[38;5;167;01mValueError\u001b[39;00m(\u001b[38;5;124m'\u001b[39m\u001b[38;5;124mall input arrays must have the same shape\u001b[39m\u001b[38;5;124m'\u001b[39m)\n\u001b[0;32m    459\u001b[0m result_ndim \u001b[38;5;241m=\u001b[39m arrays[\u001b[38;5;241m0\u001b[39m]\u001b[38;5;241m.\u001b[39mndim \u001b[38;5;241m+\u001b[39m \u001b[38;5;241m1\u001b[39m\n\u001b[0;32m    460\u001b[0m axis \u001b[38;5;241m=\u001b[39m normalize_axis_index(axis, result_ndim)\n",
      "\u001b[1;31mValueError\u001b[0m: all input arrays must have the same shape"
     ]
    }
   ],
   "source": [
    "stacked_array_2 = np.stack((joined_array_1, joined_array_2))\n",
    "print(stacked_array_2)"
   ]
  },
  {
   "cell_type": "markdown",
   "id": "f5f21289-d8ff-4316-a089-c7e081b9bd7b",
   "metadata": {},
   "source": []
  },
  {
   "cell_type": "code",
   "execution_count": 30,
   "id": "e1814a10-00c2-45ea-a703-d1c687a2adac",
   "metadata": {},
   "outputs": [
    {
     "name": "stdout",
     "output_type": "stream",
     "text": [
      "[[11 12 13]\n",
      " [14 15 16]\n",
      " [11 12 13]\n",
      " [14 15 16]\n",
      " [11 12 13]\n",
      " [14 15 16]]\n"
     ]
    }
   ],
   "source": [
    "another_joined_array = np.concatenate((joined_array_1, arrA))\n",
    "print(another_joined_array)"
   ]
  },
  {
   "cell_type": "code",
   "execution_count": 31,
   "id": "57f6efb3-72be-41b1-a356-0c3bb4ddc0ca",
   "metadata": {},
   "outputs": [
    {
     "ename": "ValueError",
     "evalue": "all the input array dimensions except for the concatenation axis must match exactly, but along dimension 0, the array at index 0 has size 4 and the array at index 1 has size 2",
     "output_type": "error",
     "traceback": [
      "\u001b[1;31m---------------------------------------------------------------------------\u001b[0m",
      "\u001b[1;31mValueError\u001b[0m                                Traceback (most recent call last)",
      "Cell \u001b[1;32mIn[31], line 1\u001b[0m\n\u001b[1;32m----> 1\u001b[0m another_2 \u001b[38;5;241m=\u001b[39m \u001b[43mnp\u001b[49m\u001b[38;5;241;43m.\u001b[39;49m\u001b[43mconcatenate\u001b[49m\u001b[43m(\u001b[49m\u001b[43m(\u001b[49m\u001b[43mjoined_array_1\u001b[49m\u001b[43m,\u001b[49m\u001b[43m \u001b[49m\u001b[43marrA\u001b[49m\u001b[43m)\u001b[49m\u001b[43m,\u001b[49m\u001b[43m \u001b[49m\u001b[43maxis\u001b[49m\u001b[43m \u001b[49m\u001b[38;5;241;43m=\u001b[39;49m\u001b[43m \u001b[49m\u001b[38;5;241;43m1\u001b[39;49m\u001b[43m)\u001b[49m\n\u001b[0;32m      2\u001b[0m \u001b[38;5;28mprint\u001b[39m(another_2)\n",
      "\u001b[1;31mValueError\u001b[0m: all the input array dimensions except for the concatenation axis must match exactly, but along dimension 0, the array at index 0 has size 4 and the array at index 1 has size 2"
     ]
    }
   ],
   "source": [
    "another_2 = np.concatenate((joined_array_1, arrA), axis = 1)\n",
    "print(another_2)"
   ]
  },
  {
   "cell_type": "markdown",
   "id": "92af61dc-96d8-48c7-94e0-5208142b5740",
   "metadata": {},
   "source": []
  },
  {
   "cell_type": "code",
   "execution_count": 32,
   "id": "8d46f7d1-a9cd-4568-a226-50ee71ccb1c9",
   "metadata": {},
   "outputs": [
    {
     "name": "stdout",
     "output_type": "stream",
     "text": [
      "[[11 12 13 11 12 13]\n",
      " [14 15 16 14 15 16]]\n"
     ]
    }
   ],
   "source": [
    "row_stack = np.hstack((arrA, arrA))\n",
    "print(row_stack)"
   ]
  },
  {
   "cell_type": "markdown",
   "id": "321dfad5-df53-46f5-963a-9b2fd0e4fb37",
   "metadata": {},
   "source": []
  },
  {
   "cell_type": "code",
   "execution_count": 35,
   "id": "a06c144b-25ec-4fc1-a692-e9217ea110f6",
   "metadata": {},
   "outputs": [
    {
     "name": "stdout",
     "output_type": "stream",
     "text": [
      "[[11 12 13]\n",
      " [14 15 16]\n",
      " [11 12 13]\n",
      " [14 15 16]]\n"
     ]
    }
   ],
   "source": [
    "vert_stack = np.vstack((arrA, arrA))\n",
    "print(vert_stack)"
   ]
  },
  {
   "cell_type": "markdown",
   "id": "bf8980e9-8f7b-4408-b87c-be1452e6db18",
   "metadata": {},
   "source": []
  },
  {
   "cell_type": "code",
   "execution_count": 34,
   "id": "b498f085-c8e5-4ed0-a1b9-ca2fd1aa8ab5",
   "metadata": {},
   "outputs": [
    {
     "name": "stdout",
     "output_type": "stream",
     "text": [
      "[[[11 11]\n",
      "  [12 12]\n",
      "  [13 13]]\n",
      "\n",
      " [[14 14]\n",
      "  [15 15]\n",
      "  [16 16]]]\n"
     ]
    }
   ],
   "source": [
    "depth_stack = np.dstack((arrA, arrA))\n",
    "print(depth_stack)"
   ]
  },
  {
   "cell_type": "markdown",
   "id": "2bc24c07-1fe5-4e23-b109-dd5b1d4f7b42",
   "metadata": {},
   "source": []
  }
 ],
 "metadata": {
  "kernelspec": {
   "display_name": "Python 3 (ipykernel)",
   "language": "python",
   "name": "python3"
  },
  "language_info": {
   "codemirror_mode": {
    "name": "ipython",
    "version": 3
   },
   "file_extension": ".py",
   "mimetype": "text/x-python",
   "name": "python",
   "nbconvert_exporter": "python",
   "pygments_lexer": "ipython3",
   "version": "3.13.0"
  }
 },
 "nbformat": 4,
 "nbformat_minor": 5
}
