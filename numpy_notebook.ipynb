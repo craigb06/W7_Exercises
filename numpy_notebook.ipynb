{
 "cells": [
  {
   "cell_type": "markdown",
   "id": "d459c0c9-3ac2-4cf3-91d4-05df813ea8b1",
   "metadata": {},
   "source": [
    "# Getting Started with NumPy"
   ]
  },
  {
   "cell_type": "code",
   "execution_count": 1,
   "id": "e2ce4abf-fb01-45be-a4e5-4a245e21ce9c",
   "metadata": {},
   "outputs": [],
   "source": [
    "import numpy as np"
   ]
  },
  {
   "cell_type": "markdown",
   "id": "de3cf22d-dd33-4256-9c50-82a6b83fdc46",
   "metadata": {},
   "source": [
    "## Array Basics"
   ]
  },
  {
   "cell_type": "code",
   "execution_count": 2,
   "id": "fba40561-2c4b-47de-95b6-58b5be385d0c",
   "metadata": {},
   "outputs": [],
   "source": [
    "fruits = ['apple', 'banana', 'cherry', 'date']"
   ]
  },
  {
   "cell_type": "code",
   "execution_count": 4,
   "id": "28be13c3-6c4b-41cf-9871-8e35861eb2a0",
   "metadata": {},
   "outputs": [
    {
     "name": "stdout",
     "output_type": "stream",
     "text": [
      "['apple' 'banana' 'cherry' 'date']\n"
     ]
    }
   ],
   "source": [
    "arr_1 = np.array(fruits)\n",
    "print(arr_1)"
   ]
  },
  {
   "cell_type": "code",
   "execution_count": 5,
   "id": "3e986232-6842-42b4-92db-b323df0f1f23",
   "metadata": {},
   "outputs": [
    {
     "data": {
      "text/plain": [
       "dtype('<U6')"
      ]
     },
     "execution_count": 5,
     "metadata": {},
     "output_type": "execute_result"
    }
   ],
   "source": [
    "arr_1.dtype"
   ]
  },
  {
   "cell_type": "code",
   "execution_count": 6,
   "id": "a2461e3e-3020-42b6-963b-0e941ac908f1",
   "metadata": {},
   "outputs": [],
   "source": [
    "# The data type returned in U6 which means Unicode string with a maximum of 6 characters within a single value = U6"
   ]
  },
  {
   "cell_type": "code",
   "execution_count": 12,
   "id": "596db97c-0b5e-4312-a3a3-63274fb09569",
   "metadata": {},
   "outputs": [
    {
     "name": "stdout",
     "output_type": "stream",
     "text": [
      "[[10 11 12]\n",
      " [13 14 15]]\n"
     ]
    }
   ],
   "source": [
    "arr_2 = np.array([(10,11,12),(13,14,15)])\n",
    "print(arr_2)"
   ]
  },
  {
   "cell_type": "code",
   "execution_count": 16,
   "id": "fa0c310c-7054-49a9-a62f-97e1c954c38d",
   "metadata": {},
   "outputs": [
    {
     "name": "stdout",
     "output_type": "stream",
     "text": [
      "[[10 13]\n",
      " [11 14]\n",
      " [12 15]]\n"
     ]
    }
   ],
   "source": [
    "print(arr_2.T)"
   ]
  },
  {
   "cell_type": "code",
   "execution_count": 19,
   "id": "72bc33b3-b16f-4600-ac18-12f8984aac17",
   "metadata": {},
   "outputs": [],
   "source": [
    "# When using .T function to transpose my dimensions it alters the values by displaying 2 columns with 3 rows instead of 2 rows with 3 columns"
   ]
  },
  {
   "cell_type": "code",
   "execution_count": 20,
   "id": "b80fbf86-7e6d-484d-bc2d-67b068fb1b60",
   "metadata": {},
   "outputs": [
    {
     "name": "stdout",
     "output_type": "stream",
     "text": [
      "[[1 3 5]\n",
      " [2 4 6]]\n"
     ]
    }
   ],
   "source": [
    "arr_3 = np.array([(1,3,5),(2,4,6)])\n",
    "print(arr_3)"
   ]
  },
  {
   "cell_type": "code",
   "execution_count": 27,
   "id": "8c8d9a54-9703-48ef-aef5-6ba986a3fc4f",
   "metadata": {},
   "outputs": [
    {
     "name": "stdout",
     "output_type": "stream",
     "text": [
      "[5 4]\n"
     ]
    }
   ],
   "source": [
    "arr_4 = np.array([arr_3[0, 2], arr_3[1, 1]])\n",
    "print(arr_4)"
   ]
  },
  {
   "cell_type": "code",
   "execution_count": 31,
   "id": "0fa09254-b52a-4817-ac4d-452c8c173ae9",
   "metadata": {},
   "outputs": [
    {
     "data": {
      "text/plain": [
       "array([[[1, 1],\n",
       "        [1, 1]],\n",
       "\n",
       "       [[1, 1],\n",
       "        [1, 1]]])"
      ]
     },
     "execution_count": 31,
     "metadata": {},
     "output_type": "execute_result"
    }
   ],
   "source": [
    "arr_5 = np.array([[[1, 1], [1, 1]], [[1, 1], [1, 1]]])\n",
    "arr_5"
   ]
  },
  {
   "cell_type": "code",
   "execution_count": null,
   "id": "f7fdc602-68b3-4c99-aa45-f498a7483073",
   "metadata": {},
   "outputs": [],
   "source": []
  }
 ],
 "metadata": {
  "kernelspec": {
   "display_name": "Python 3 (ipykernel)",
   "language": "python",
   "name": "python3"
  },
  "language_info": {
   "codemirror_mode": {
    "name": "ipython",
    "version": 3
   },
   "file_extension": ".py",
   "mimetype": "text/x-python",
   "name": "python",
   "nbconvert_exporter": "python",
   "pygments_lexer": "ipython3",
   "version": "3.13.0"
  }
 },
 "nbformat": 4,
 "nbformat_minor": 5
}
