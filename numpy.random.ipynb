{
 "cells": [
  {
   "cell_type": "markdown",
   "id": "b4c5bcd4-6133-4b09-aab8-e2ff9e000995",
   "metadata": {},
   "source": [
    "# Working With NumPy's Random Module"
   ]
  },
  {
   "cell_type": "code",
   "execution_count": 1,
   "id": "f675f983-ecd0-4f60-b57c-b0b537656937",
   "metadata": {},
   "outputs": [],
   "source": [
    "import numpy as np"
   ]
  },
  {
   "cell_type": "markdown",
   "id": "aaad0c0b-047c-47f1-bd55-7b60114ed65d",
   "metadata": {},
   "source": [
    "## Generating Random Numbers"
   ]
  },
  {
   "cell_type": "code",
   "execution_count": 4,
   "id": "ba83b5a9-c66a-4073-8597-f817fa95a780",
   "metadata": {},
   "outputs": [
    {
     "data": {
      "text/plain": [
       "array([9, 1], dtype=int32)"
      ]
     },
     "execution_count": 4,
     "metadata": {},
     "output_type": "execute_result"
    }
   ],
   "source": [
    "r_1 = np.random.randint(1, 20, size = (2))\n",
    "r_1"
   ]
  },
  {
   "cell_type": "code",
   "execution_count": 5,
   "id": "1b86b4e4-71cd-4f94-8659-bdb5339af042",
   "metadata": {},
   "outputs": [
    {
     "data": {
      "text/plain": [
       "array([[19, 14]], dtype=int32)"
      ]
     },
     "execution_count": 5,
     "metadata": {},
     "output_type": "execute_result"
    }
   ],
   "source": [
    "r_2 = np.random.randint(1, 20, size = (1, 2))\n",
    "r_2"
   ]
  },
  {
   "cell_type": "code",
   "execution_count": 6,
   "id": "3c4c9c1d-a4a4-40e9-8cd9-45507580cd90",
   "metadata": {},
   "outputs": [
    {
     "data": {
      "text/plain": [
       "array([[0.30935652],\n",
       "       [0.50319528]])"
      ]
     },
     "execution_count": 6,
     "metadata": {},
     "output_type": "execute_result"
    }
   ],
   "source": [
    "r_3 = np.random.rand(2, 1)\n",
    "r_3"
   ]
  },
  {
   "cell_type": "code",
   "execution_count": 7,
   "id": "feb7658d-c521-42ff-ab34-8b8301033f62",
   "metadata": {},
   "outputs": [
    {
     "data": {
      "text/plain": [
       "array([[42, 83, 67, 94, 47],\n",
       "       [46, 33, 83, 45, 43],\n",
       "       [21, 48, 49, 43, 24],\n",
       "       [52, 70, 36, 20, 24]], dtype=int32)"
      ]
     },
     "execution_count": 7,
     "metadata": {},
     "output_type": "execute_result"
    }
   ],
   "source": [
    "r_4 = np.random.randint(20, 100, size = (4, 5))\n",
    "r_4"
   ]
  },
  {
   "cell_type": "code",
   "execution_count": 9,
   "id": "91ed9b04-acf3-4c69-967e-d164cbb20d29",
   "metadata": {},
   "outputs": [
    {
     "data": {
      "text/plain": [
       "array([[0.21231818, 0.87889855, 0.91636316, 0.13825276, 0.23450843],\n",
       "       [0.00960655, 0.87221554, 0.60793033, 0.04062422, 0.70707985],\n",
       "       [0.90041744, 0.69861189, 0.3406104 , 0.53482231, 0.22648904],\n",
       "       [0.68649163, 0.62020613, 0.02739604, 0.95559766, 0.60578097]])"
      ]
     },
     "execution_count": 9,
     "metadata": {},
     "output_type": "execute_result"
    }
   ],
   "source": [
    "r_5 = np.random.rand(4, 5)\n",
    "r_5"
   ]
  },
  {
   "cell_type": "markdown",
   "id": "dd26fb22-cefc-4d5b-8a4d-e138fe029c5f",
   "metadata": {},
   "source": [
    "## Generating Random Choices from an Array"
   ]
  },
  {
   "cell_type": "code",
   "execution_count": 10,
   "id": "09f2192a-e96c-4b56-99da-d062994f7ab1",
   "metadata": {},
   "outputs": [
    {
     "data": {
      "text/plain": [
       "np.str_('Fadil')"
      ]
     },
     "execution_count": 10,
     "metadata": {},
     "output_type": "execute_result"
    }
   ],
   "source": [
    "students = np.array(['Craig', 'Anthony', 'Armando', 'Aron', 'Caitlan', 'Jacob', 'Fadil', 'Jaela', 'Jennifer', 'Jordan', 'Hassan', 'Kailyn'])\n",
    "call_on = np.random.choice(students)\n",
    "call_on"
   ]
  },
  {
   "cell_type": "code",
   "execution_count": 11,
   "id": "e27b38b4-db96-452b-a6e5-dd6c3956d702",
   "metadata": {},
   "outputs": [
    {
     "data": {
      "text/plain": [
       "array([['Anthony', 'Jaela', 'Jordan', 'Hassan'],\n",
       "       ['Kailyn', 'Hassan', 'Jordan', 'Kailyn'],\n",
       "       ['Jordan', 'Aron', 'Anthony', 'Aron']], dtype='<U8')"
      ]
     },
     "execution_count": 11,
     "metadata": {},
     "output_type": "execute_result"
    }
   ],
   "source": [
    "breakout_groups = np.random.choice(students, size = (3, 4))\n",
    "breakout_groups"
   ]
  },
  {
   "cell_type": "markdown",
   "id": "6bd4f78d-5653-4ee1-a54b-1938355c0193",
   "metadata": {},
   "source": [
    "This would not be an effective way to assign breakout groups because the random module does gurantee you will get different results as proven above. The size of the array perfectly fits the total amount of students and instead of displaying a random order of all the student names the code displayed many of the same names many times."
   ]
  },
  {
   "cell_type": "code",
   "execution_count": 24,
   "id": "90eed47b-c17e-49d4-896a-60562292dee7",
   "metadata": {},
   "outputs": [
    {
     "data": {
      "text/plain": [
       "array(['Craig', 'Craig', 'Jordan', 'Kailyn', 'Jordan'], dtype='<U8')"
      ]
     },
     "execution_count": 24,
     "metadata": {},
     "output_type": "execute_result"
    }
   ],
   "source": [
    "call_on_weighted = np.random.choice(students, p = [0.15, 0.02, 0.03, 0.05, 0.05, 0.1, 0.12, 0.01, 0.0, 0.3, 0.1, 0.07], size = (5))\n",
    "'''Craig = 15%, Anthony = 2%, Armando = 3%, Aron = 5%, Caitlan = 5%, Jacob = 10%, Fadil = 12%, Jaela = 1%,\n",
    "Jennifer = 0%, Jordan = 30%, Hassan = 10%, Kailyn = 7%'''\n",
    "call_on_weighted"
   ]
  },
  {
   "cell_type": "markdown",
   "id": "ffb73406-e328-496e-b817-22023e0c0108",
   "metadata": {},
   "source": [
    "## Generating a Normal Distribution"
   ]
  },
  {
   "cell_type": "code",
   "execution_count": 28,
   "id": "d3c12f8a-9ecf-4d5a-8db2-fac43f2bb4f8",
   "metadata": {},
   "outputs": [
    {
     "data": {
      "text/plain": [
       "array([13.51525547, 16.53042137,  9.74506167, 20.46602405,  9.97598504,\n",
       "       11.09972114,  8.73418085, 14.58781028, 17.50231366, 11.50268269,\n",
       "       12.82043085,  2.01538728, 10.46689864,  7.43575166, 11.69480383,\n",
       "       17.64057393,  8.57301418, 12.44636979,  6.38213271,  5.52685183])"
      ]
     },
     "execution_count": 28,
     "metadata": {},
     "output_type": "execute_result"
    }
   ],
   "source": [
    "bell_curve = np.random.normal(loc=10, scale=5, size=(20))\n",
    "bell_curve"
   ]
  },
  {
   "cell_type": "code",
   "execution_count": null,
   "id": "7cdeb838-c228-489f-a39f-350b896e387a",
   "metadata": {},
   "outputs": [],
   "source": []
  }
 ],
 "metadata": {
  "kernelspec": {
   "display_name": "Python 3 (ipykernel)",
   "language": "python",
   "name": "python3"
  },
  "language_info": {
   "codemirror_mode": {
    "name": "ipython",
    "version": 3
   },
   "file_extension": ".py",
   "mimetype": "text/x-python",
   "name": "python",
   "nbconvert_exporter": "python",
   "pygments_lexer": "ipython3",
   "version": "3.13.0"
  }
 },
 "nbformat": 4,
 "nbformat_minor": 5
}
